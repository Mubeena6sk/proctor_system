{
 "cells": [
  {
   "cell_type": "code",
   "execution_count": 6,
   "metadata": {},
   "outputs": [
    {
     "data": {
      "text/plain": [
       "-1"
      ]
     },
     "execution_count": 6,
     "metadata": {},
     "output_type": "execute_result"
    }
   ],
   "source": [
    "import numpy as np\n",
    "import cv2\n",
    "\n",
    "confidenceThreshold = 0.5\n",
    "NMSThreshold = 0.3\n",
    "\n",
    "modelConfiguration = 'cfg/yolov3.cfg'\n",
    "modelWeights = 'yolov3.weights'\n",
    "\n",
    "labelsPath = 'dataset.names'\n",
    "labels = open(labelsPath).read().strip().split('\\n')\n",
    "\n",
    "np.random.seed(10)\n",
    "COLORS = np.random.randint(0, 255, size=(len(labels), 3), dtype=\"uint8\")\n",
    "\n",
    "net = cv2.dnn.readNetFromDarknet(modelConfiguration, modelWeights)\n",
    "image = cv2.imread('images/person.jpg')\n",
    "(H, W) = image.shape[:2]\n",
    "\n",
    "#Determine output layer names\n",
    "layerName = net.getLayerNames()\n",
    "layerName = [layerName[i[0] - 1] for i in net.getUnconnectedOutLayers()]\n",
    "\n",
    "blob = cv2.dnn.blobFromImage(image, 1 / 255.0, (416, 416), swapRB = True, crop = False)\n",
    "net.setInput(blob)\n",
    "layersOutputs = net.forward(layerName)\n",
    "\n",
    "boxes = []\n",
    "confidences = []\n",
    "classIDs = []\n",
    "\n",
    "for output in layersOutputs:\n",
    "    for detection in output:\n",
    "        scores = detection[5:]\n",
    "        classID = np.argmax(scores)\n",
    "        confidence = scores[classID]\n",
    "        if confidence > confidenceThreshold:\n",
    "            box = detection[0:4] * np.array([W, H, W, H])\n",
    "            (centerX, centerY,  width, height) = box.astype('int')\n",
    "            x = int(centerX - (width/2))\n",
    "            y = int(centerY - (height/2))\n",
    "\n",
    "            boxes.append([x, y, int(width), int(height)])\n",
    "            confidences.append(float(confidence))\n",
    "            classIDs.append(classID)\n",
    "\n",
    "#Apply Non Maxima Suppression\n",
    "detectionNMS = cv2.dnn.NMSBoxes(boxes, confidences, confidenceThreshold, NMSThreshold)\n",
    "\n",
    "if(len(detectionNMS) > 0):\n",
    "    for i in detectionNMS.flatten():\n",
    "        (x, y) = (boxes[i][0], boxes[i][1])\n",
    "        (w, h) = (boxes[i][2], boxes[i][3])\n",
    "\n",
    "        color = [int(c) for c in COLORS[classIDs[i]]]\n",
    "        if labels[classIDs[i]]==\"cell phone\":\n",
    "            cv2.rectangle(image, (x, y), (x + w, y + h), color, 2)\n",
    "            text = '{}: {:.4f}'.format(labels[classIDs[i]], confidences[i])\n",
    "            cv2.putText(image, text, (x, y - 5), cv2.FONT_HERSHEY_SIMPLEX, 0.5, color, 2)\n",
    "\n",
    "\n",
    "cv2.imshow('Image', image)\n",
    "cv2.waitKey(0)"
   ]
  },
  {
   "cell_type": "code",
   "execution_count": null,
   "metadata": {},
   "outputs": [],
   "source": []
  },
  {
   "cell_type": "code",
   "execution_count": null,
   "metadata": {},
   "outputs": [],
   "source": []
  }
 ],
 "metadata": {
  "kernelspec": {
   "display_name": "Python 3",
   "language": "python",
   "name": "python3"
  },
  "language_info": {
   "codemirror_mode": {
    "name": "ipython",
    "version": 3
   },
   "file_extension": ".py",
   "mimetype": "text/x-python",
   "name": "python",
   "nbconvert_exporter": "python",
   "pygments_lexer": "ipython3",
   "version": "3.7.3"
  }
 },
 "nbformat": 4,
 "nbformat_minor": 2
}
